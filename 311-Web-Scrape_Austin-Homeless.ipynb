{
 "cells": [
  {
   "cell_type": "markdown",
   "metadata": {},
   "source": [
    "# Web-scrape Austin's 311 Website with Beautiful Soup"
   ]
  },
  {
   "cell_type": "markdown",
   "metadata": {},
   "source": [
    "__[Austin's 311 Public Dataset](https://data.austintexas.gov/Government/311-Unified-Data/i26j-ai4z)__ has a comprehensive open source summary of 311 reports which provides a wealth of oppourtunities for citizens to dive into and track progress being made on local concerns. Publicizing 311 reports increases transparency, community engagement, and provides oppourtunities for citizens to develop __[public service applications](http://www.austintexas.gov/sites/default/files/images/Communications/Web_Content/Austin_311_Socrata_Fact_Sheet.pdf)__.\n",
    "\n",
    "However, understanding homeless-related 311 reports poses a unique setback. At the moment (Sept 2017) There isn't an explicit _SR Description_ that encompases homeless-related incidents and _Owning Departements_ that are assigned to these respective tickets vary. The only indicator of a homeless related ticket is determined in the _Issue_ descriptions found on the 311 website. To supplement 311 datasets on Socrata's Open Data Network, a quick solution is to scrape the 311 website.\n",
    "\n",
    "Scraping the website is split up into two parts; Part 1 entails scraping the landing page and genrating ticket report URL's. Part 2 scrapes the feature components in each ticket report from Part 1. All features are appened to a csv file.\n"
   ]
  },
  {
   "cell_type": "markdown",
   "metadata": {},
   "source": [
    "# Part 1: Scrape the landing page"
   ]
  },
  {
   "cell_type": "markdown",
   "metadata": {},
   "source": [
    "This algorithm finds the ticket numbers from each page on the 311 landing page, generates a custon URL pointing to the ticket reports website and appends it to a csv file called ticketnums.csv"
   ]
  },
  {
   "cell_type": "code",
   "execution_count": 6,
   "metadata": {},
   "outputs": [
    {
     "name": "stdout",
     "output_type": "stream",
     "text": [
      "http://311.austintexas.gov/reports/17-00278917\n",
      "http://311.austintexas.gov/reports/17-00277186\n",
      "http://311.austintexas.gov/reports/17-00277163\n",
      "http://311.austintexas.gov/reports/17-00163036\n",
      "http://311.austintexas.gov/reports/17-00274887\n",
      "http://311.austintexas.gov/reports/17-00274451\n",
      "http://311.austintexas.gov/reports/17-00272363\n",
      "http://311.austintexas.gov/reports/17-00272949\n",
      "http://311.austintexas.gov/reports/17-00272815\n",
      "http://311.austintexas.gov/reports/17-00222028\n"
     ]
    }
   ],
   "source": [
    "from bs4 import BeautifulSoup\n",
    "import urllib\n",
    "import csv\n",
    "from datetime import datetime  \n",
    "import pandas as pd\n",
    "\n",
    "\n",
    "#Identify Website\n",
    "site = urllib.urlopen('http://311.austintexas.gov/reports?utf8=%E2%9C%93&q=homeless').read()\n",
    "\n",
    "#HTML Parser\n",
    "soup = BeautifulSoup(site, \"html.parser\")\n",
    "\n",
    "#Identify the table of ticket requests\n",
    "table = soup.find(\"tbody\").findAll(\"span\", {\"class\":\"activity-timestamp\"})\n",
    "\n",
    "#Extract the ticket number and generate a URL that points to the ticket report\n",
    "for idx, val in enumerate(table):#split rows\n",
    "    for x, y in enumerate(val):#split collumns\n",
    "        unicode_ticket_nums = y.split()[-1:]\n",
    "        for i in unicode_ticket_nums:\n",
    "            ticket_nums = i[1:]\n",
    "            \n",
    "            #create a unique url that points to the ticket report\n",
    "            ticket_url = \"http://311.austintexas.gov/reports/\"+ticket_nums\n",
    "            print(ticket_url)\n",
    "\n",
    "            #open a csv file and append the URL to the next row\n",
    "            with open('ticketurlTEST2.csv', 'a') as csv_file:  \n",
    "                writer = csv.writer(csv_file)\n",
    "                writer.writerow([ticket_url])\n"
   ]
  },
  {
   "cell_type": "markdown",
   "metadata": {},
   "source": [
    "# Part 2: Scrape the Ticket Report"
   ]
  },
  {
   "cell_type": "markdown",
   "metadata": {},
   "source": [
    "Scrape individual ticket reports using cleanticketurl.csv and populate 311HomelessScrape.csv with features: Ticket Number, Service Request Title, Description, Address, XY coordinates, Lat-Long coordinates."
   ]
  },
  {
   "cell_type": "code",
   "execution_count": 7,
   "metadata": {
    "collapsed": true
   },
   "outputs": [],
   "source": [
    "with open('ticketurlTEST2.csv','r+') as f:#csv of clean urls\n",
    "    reader = csv.reader(f)  \n",
    "    with open('311HomelessScrapeTEST2.csv', 'w+') as csv_file:  \n",
    "        writer = csv.writer(csv_file)\n",
    "        for row in reader:#Each row is a separate list\n",
    "            for url in row:\n",
    "                site = urllib.urlopen(url).read()#open each url\n",
    "\n",
    "                #HTML Parser\n",
    "                soup = BeautifulSoup(site, \"html.parser\")\n",
    "\n",
    "                #Ticket Number\n",
    "                ticket_number_box = soup.find(\"div\", {\"id\":\"report-source\"}).strong\n",
    "                ticket_number = ticket_number_box.text.strip()\n",
    "\n",
    "                #Service Request Title\n",
    "                service_request_box = soup.find(\"div\", {\"class\":\"content-head\"})\n",
    "                service_request = service_request_box.text.strip()\n",
    "\n",
    "                #Description\n",
    "                description_box = soup.blockquote\n",
    "                description = description_box.text.strip()\n",
    "\n",
    "                #Address, XY coordinates, Lat-Long coordinates\n",
    "                loctab = soup.find(id=\"location-tab\")\n",
    "                address = loctab.p.next_element.next_element.next_element\n",
    "                xy_coord = loctab.p.next_element.next_element.next_element.next_element.next_element.next_element.next_element.next_element\n",
    "                latlong_coord = loctab.p.next_element.next_element.next_element.next_element.next_element.next_element.next_element.next_element.next_element.next_element.next_element.next_element.next_element.next_element.next_element\n",
    "\n",
    "                rows = []\n",
    "\n",
    "                row_content = [ticket_number, service_request, description, address, xy_coord, latlong_coord]   \n",
    "\n",
    "                #Populate csv 311HomelessScrape.csv\n",
    "                writer.writerow(row_content)"
   ]
  },
  {
   "cell_type": "code",
   "execution_count": null,
   "metadata": {
    "collapsed": true
   },
   "outputs": [],
   "source": []
  }
 ],
 "metadata": {
  "kernelspec": {
   "display_name": "Python 2",
   "language": "python",
   "name": "python2"
  },
  "language_info": {
   "codemirror_mode": {
    "name": "ipython",
    "version": 2
   },
   "file_extension": ".py",
   "mimetype": "text/x-python",
   "name": "python",
   "nbconvert_exporter": "python",
   "pygments_lexer": "ipython2",
   "version": "2.7.13"
  }
 },
 "nbformat": 4,
 "nbformat_minor": 2
}
